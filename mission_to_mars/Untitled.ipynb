{
 "cells": [
  {
   "cell_type": "code",
   "execution_count": 95,
   "metadata": {},
   "outputs": [],
   "source": [
    "def scrape():\n",
    "    import pandas as pd\n",
    "    import time\n",
    "    import json\n",
    "    import requests\n",
    "    from splinter import Browser\n",
    "    from bs4 import BeautifulSoup as bs\n",
    "    \n",
    "    executable_path = {'executable_path': '/usr/local/bin/chromedriver'}\n",
    "    browser = Browser('chrome', **executable_path, headless=False)\n",
    "    \n",
    "#keys and dictionary setup\n",
    "    mars_dict = []\n",
    "    mars_values = []\n",
    "    mars_dict_keys = ['News', 'Featured Image', 'Weather', 'Table', 'Hemisphere Images']\n",
    "    \n",
    "#mars news\n",
    "    news_keys = ['News Title', 'News Caption']\n",
    "    news_values = []\n",
    "    news = []\n",
    "    url = 'https://mars.nasa.gov/news/'\n",
    "    browser.visit(url)\n",
    "    html = browser.html\n",
    "    soup = bs(html, 'html.parser')\n",
    "\n",
    "    news_title = soup.find('div', class_='image_and_description_container').find('h3').text\n",
    "    news_title.strip\n",
    "\n",
    "    news_p = soup.find('div', class_='article_teaser_body').text\n",
    "    news_p.strip\n",
    "\n",
    "    news_values.append(news_title)\n",
    "    news_values.append(news_p)\n",
    "    news.append(dict(zip(news_keys, news_values)))\n",
    "    \n",
    "#mars main image\n",
    "    main_img = []\n",
    "    main_img_keys = [\"Main Image\"]\n",
    "    main_img_values = []\n",
    "    url = 'https://www.jpl.nasa.gov/spaceimages/?search=&category=Mars'\n",
    "    browser.visit(url)\n",
    "    html = browser.html\n",
    "    soup = bs(html, 'html.parser')\n",
    "\n",
    "    image = soup.find_all('a', class_='fancybox')[0][\"data-fancybox-href\"]\n",
    "    site_root = \"https://www.jpl.nasa.gov\"\n",
    "    featured_image_url = site_root + image\n",
    "    main_img_values.append(featured_image_url)\n",
    "    main_img.append(dict(zip(main_img_keys, main_img_values)))\n",
    "    \n",
    "#mars weather\n",
    "    weather_keys = ['Current Weather']\n",
    "    weather_values = []\n",
    "    current_weather = []\n",
    "    \n",
    "    url = 'https://twitter.com/MarsWxReport'\n",
    "    response = requests.get(url)\n",
    "    soup = bs(response.text, 'lxml')\n",
    "\n",
    "    mars_weather = soup.find('p', class_=\"TweetTextSize\").text\n",
    "    weather_values.append(mars_weather)\n",
    "    current_weather.append(dict(zip(weather_keys, weather_values)))\n",
    "    \n",
    "#mars table\n",
    "    mars_table_keys = ['Table HTML']\n",
    "    table_html = []\n",
    "    table_value = []\n",
    "    \n",
    "    url = 'https://space-facts.com/mars/'\n",
    "    tables = pd.read_html(url)\n",
    "    df = tables[0]\n",
    "    html_table = df.to_html()\n",
    "    table_value.append(html_table)\n",
    "    table_html.append(dict(zip(mars_table_keys, table_value)))\n",
    "    \n",
    "#hemispheres \n",
    "    itteration = ['Cerberus Hemisphere Enhanced', 'Schiaparelli Hemisphere Enhanced', 'Syrtis Major Hemisphere Enhanced', 'Valles Marineris Hemisphere Enhanced']\n",
    "    keys = ['title', 'img_url']\n",
    "    hemisphere_image_urls = []\n",
    "    values = []\n",
    "\n",
    "    for x in itteration:\n",
    "        url = 'https://astrogeology.usgs.gov/search/results?q=hemisphere+enhanced&k1=target&v1=Mars'\n",
    "        browser.visit(url)\n",
    "\n",
    "        time.sleep(4)\n",
    "\n",
    "        browser.click_link_by_partial_text(x)\n",
    "    \n",
    "        html = browser.html\n",
    "        soup = bs(html, 'html.parser')\n",
    "\n",
    "        img = soup.find('img', class_='wide-image')['src']\n",
    "        name = soup.find('h2', class_='title').text\n",
    "        site_root = 'https://astrogeology.usgs.gov/'\n",
    "        img_url = site_root + img\n",
    "\n",
    "        values.append(name)\n",
    "        values.append(img_url)\n",
    "        hemisphere_image_urls.append(dict(zip(keys, values)))\n",
    "        values = []\n",
    "    mars_values.append(news)\n",
    "    mars_values.append(main_img)\n",
    "    mars_values.append(current_weather)\n",
    "    mars_values.append(table_html)\n",
    "    mars_values.append(hemisphere_image_urls)\n",
    "    mars_dict.append(dict(zip(mars_dict_keys, mars_values)))\n",
    "    print(mars_dict)"
   ]
  },
  {
   "cell_type": "code",
   "execution_count": 97,
   "metadata": {},
   "outputs": [
    {
     "name": "stdout",
     "output_type": "stream",
     "text": [
      "[{'News Title': \"A Year of Surprising Science From NASA's InSight Mars Mission\", 'News Caption': \"A batch of new papers summarizes the lander's findings above and below the surface of the Red Planet.\"}]\n",
      "[{'News': [{'News Title': \"A Year of Surprising Science From NASA's InSight Mars Mission\", 'News Caption': \"A batch of new papers summarizes the lander's findings above and below the surface of the Red Planet.\"}], 'Featured Image': [{'Main Image': 'https://www.jpl.nasa.gov/spaceimages/images/mediumsize/PIA19063_ip.jpg'}], 'Weather': [{'Current Weather': 'InSight sol 443 (2020-02-24) low -94.8ºC (-138.6ºF) high -12.3ºC (9.8ºF)\\nwinds from the SSE at 7.0 m/s (15.6 mph) gusting to 22.2 m/s (49.6 mph)\\npressure at 6.30 hPapic.twitter.com/aaRx6POMFO'}], 'Table': [{'Table HTML': '<table border=\"1\" class=\"dataframe\">\\n  <thead>\\n    <tr style=\"text-align: right;\">\\n      <th></th>\\n      <th>0</th>\\n      <th>1</th>\\n    </tr>\\n  </thead>\\n  <tbody>\\n    <tr>\\n      <th>0</th>\\n      <td>Equatorial Diameter:</td>\\n      <td>6,792 km</td>\\n    </tr>\\n    <tr>\\n      <th>1</th>\\n      <td>Polar Diameter:</td>\\n      <td>6,752 km</td>\\n    </tr>\\n    <tr>\\n      <th>2</th>\\n      <td>Mass:</td>\\n      <td>6.39 × 10^23 kg (0.11 Earths)</td>\\n    </tr>\\n    <tr>\\n      <th>3</th>\\n      <td>Moons:</td>\\n      <td>2 (Phobos &amp; Deimos)</td>\\n    </tr>\\n    <tr>\\n      <th>4</th>\\n      <td>Orbit Distance:</td>\\n      <td>227,943,824 km (1.38 AU)</td>\\n    </tr>\\n    <tr>\\n      <th>5</th>\\n      <td>Orbit Period:</td>\\n      <td>687 days (1.9 years)</td>\\n    </tr>\\n    <tr>\\n      <th>6</th>\\n      <td>Surface Temperature:</td>\\n      <td>-87 to -5 °C</td>\\n    </tr>\\n    <tr>\\n      <th>7</th>\\n      <td>First Record:</td>\\n      <td>2nd millennium BC</td>\\n    </tr>\\n    <tr>\\n      <th>8</th>\\n      <td>Recorded By:</td>\\n      <td>Egyptian astronomers</td>\\n    </tr>\\n  </tbody>\\n</table>'}], 'Hemisphere Images': [{'title': 'Cerberus Hemisphere Enhanced', 'img_url': 'https://astrogeology.usgs.gov//cache/images/cfa62af2557222a02478f1fcd781d445_cerberus_enhanced.tif_full.jpg'}, {'title': 'Schiaparelli Hemisphere Enhanced', 'img_url': 'https://astrogeology.usgs.gov//cache/images/3cdd1cbf5e0813bba925c9030d13b62e_schiaparelli_enhanced.tif_full.jpg'}, {'title': 'Syrtis Major Hemisphere Enhanced', 'img_url': 'https://astrogeology.usgs.gov//cache/images/ae209b4e408bb6c3e67b6af38168cf28_syrtis_major_enhanced.tif_full.jpg'}, {'title': 'Valles Marineris Hemisphere Enhanced', 'img_url': 'https://astrogeology.usgs.gov//cache/images/7cf2da4bf549ed01c17f206327be4db7_valles_marineris_enhanced.tif_full.jpg'}]}]\n"
     ]
    }
   ],
   "source": [
    "scrape()"
   ]
  },
  {
   "cell_type": "code",
   "execution_count": 31,
   "metadata": {},
   "outputs": [
    {
     "ename": "NameError",
     "evalue": "name 'pd' is not defined",
     "output_type": "error",
     "traceback": [
      "\u001b[0;31m---------------------------------------------------------------------------\u001b[0m",
      "\u001b[0;31mNameError\u001b[0m                                 Traceback (most recent call last)",
      "\u001b[0;32m<ipython-input-31-d6e80a3257a1>\u001b[0m in \u001b[0;36m<module>\u001b[0;34m\u001b[0m\n\u001b[1;32m      1\u001b[0m \u001b[0murl\u001b[0m \u001b[0;34m=\u001b[0m \u001b[0;34m'https://space-facts.com/mars/'\u001b[0m\u001b[0;34m\u001b[0m\u001b[0;34m\u001b[0m\u001b[0m\n\u001b[0;32m----> 2\u001b[0;31m \u001b[0mtables\u001b[0m \u001b[0;34m=\u001b[0m \u001b[0mpd\u001b[0m\u001b[0;34m.\u001b[0m\u001b[0mread_html\u001b[0m\u001b[0;34m(\u001b[0m\u001b[0murl\u001b[0m\u001b[0;34m)\u001b[0m\u001b[0;34m\u001b[0m\u001b[0;34m\u001b[0m\u001b[0m\n\u001b[0m\u001b[1;32m      3\u001b[0m \u001b[0mdf\u001b[0m \u001b[0;34m=\u001b[0m \u001b[0mtables\u001b[0m\u001b[0;34m[\u001b[0m\u001b[0;36m0\u001b[0m\u001b[0;34m]\u001b[0m\u001b[0;34m\u001b[0m\u001b[0;34m\u001b[0m\u001b[0m\n\u001b[1;32m      4\u001b[0m \u001b[0mdf\u001b[0m\u001b[0;34m.\u001b[0m\u001b[0mhead\u001b[0m\u001b[0;34m(\u001b[0m\u001b[0;34m)\u001b[0m\u001b[0;34m\u001b[0m\u001b[0;34m\u001b[0m\u001b[0m\n",
      "\u001b[0;31mNameError\u001b[0m: name 'pd' is not defined"
     ]
    }
   ],
   "source": [
    "    "
   ]
  },
  {
   "cell_type": "code",
   "execution_count": null,
   "metadata": {},
   "outputs": [],
   "source": []
  }
 ],
 "metadata": {
  "kernelspec": {
   "display_name": "Python 3",
   "language": "python",
   "name": "python3"
  },
  "language_info": {
   "codemirror_mode": {
    "name": "ipython",
    "version": 3
   },
   "file_extension": ".py",
   "mimetype": "text/x-python",
   "name": "python",
   "nbconvert_exporter": "python",
   "pygments_lexer": "ipython3",
   "version": "3.6.9"
  }
 },
 "nbformat": 4,
 "nbformat_minor": 2
}
